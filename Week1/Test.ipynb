{
  "nbformat": 4,
  "nbformat_minor": 0,
  "metadata": {
    "colab": {
      "name": "Test",
      "version": "0.3.2",
      "provenance": [],
      "collapsed_sections": [],
      "include_colab_link": true
    },
    "kernelspec": {
      "name": "python3",
      "display_name": "Python 3"
    },
    "accelerator": "GPU"
  },
  "cells": [
    {
      "cell_type": "markdown",
      "metadata": {
        "id": "view-in-github",
        "colab_type": "text"
      },
      "source": [
        "<a href=\"https://colab.research.google.com/github/dongyyyyy/CUDA/blob/master/Week1/Test.ipynb\" target=\"_parent\"><img src=\"https://colab.research.google.com/assets/colab-badge.svg\" alt=\"Open In Colab\"/></a>"
      ]
    },
    {
      "cell_type": "code",
      "metadata": {
        "id": "bw9W5MSsqd7f",
        "colab_type": "code",
        "outputId": "6414fba8-da12-4b1b-9717-bf609cb0795c",
        "colab": {
          "base_uri": "https://localhost:8080/",
          "height": 35
        }
      },
      "source": [
        "%%writefile prog.c\n",
        "\n",
        "#include<stdio.h>\n",
        "\n",
        "int main(void)\n",
        "{\n",
        "    printf(\"Hello World!~~~\");\n",
        "    \n",
        "    return 0;  // 정상 완료\n",
        "}"
      ],
      "execution_count": 0,
      "outputs": [
        {
          "output_type": "stream",
          "text": [
            "Writing prog.c\n"
          ],
          "name": "stdout"
        }
      ]
    },
    {
      "cell_type": "code",
      "metadata": {
        "id": "6lZzKjXGREOv",
        "colab_type": "code",
        "outputId": "2a538e58-39f0-49ef-90da-c870233d0cf2",
        "colab": {
          "base_uri": "https://localhost:8080/",
          "height": 35
        }
      },
      "source": [
        "!ls"
      ],
      "execution_count": 0,
      "outputs": [
        {
          "output_type": "stream",
          "text": [
            "prog.c\tsample_data\n"
          ],
          "name": "stdout"
        }
      ]
    },
    {
      "cell_type": "code",
      "metadata": {
        "id": "TzZctGN0Swg_",
        "colab_type": "code",
        "colab": {}
      },
      "source": [
        "!gcc -o prog.out prog.c"
      ],
      "execution_count": 0,
      "outputs": []
    },
    {
      "cell_type": "code",
      "metadata": {
        "id": "PPQBo-q4S0It",
        "colab_type": "code",
        "outputId": "a5d9949d-9559-4cb1-a017-f58488ea2a2b",
        "colab": {
          "base_uri": "https://localhost:8080/",
          "height": 35
        }
      },
      "source": [
        "!ls"
      ],
      "execution_count": 0,
      "outputs": [
        {
          "output_type": "stream",
          "text": [
            "prog.c\tprog.out  sample_data\n"
          ],
          "name": "stdout"
        }
      ]
    },
    {
      "cell_type": "code",
      "metadata": {
        "id": "1Y_YM6HsS1s8",
        "colab_type": "code",
        "outputId": "c85293de-7cfe-4601-b4cf-a4dca05febd7",
        "colab": {
          "base_uri": "https://localhost:8080/",
          "height": 35
        }
      },
      "source": [
        "!./prog.out"
      ],
      "execution_count": 0,
      "outputs": [
        {
          "output_type": "stream",
          "text": [
            "Hello World!~~~"
          ],
          "name": "stdout"
        }
      ]
    },
    {
      "cell_type": "code",
      "metadata": {
        "id": "mGFfhrZZZCt0",
        "colab_type": "code",
        "outputId": "c0f9063a-916e-427e-a9b7-7ca2cdf39e62",
        "colab": {
          "base_uri": "https://localhost:8080/",
          "height": 89
        }
      },
      "source": [
        "!nvcc --version"
      ],
      "execution_count": 0,
      "outputs": [
        {
          "output_type": "stream",
          "text": [
            "nvcc: NVIDIA (R) Cuda compiler driver\n",
            "Copyright (c) 2005-2018 NVIDIA Corporation\n",
            "Built on Sat_Aug_25_21:08:01_CDT_2018\n",
            "Cuda compilation tools, release 10.0, V10.0.130\n"
          ],
          "name": "stdout"
        }
      ]
    },
    {
      "cell_type": "code",
      "metadata": {
        "id": "W4XlInrVZGeC",
        "colab_type": "code",
        "outputId": "0655fdf2-b87b-4696-cf75-b1f78ce01af1",
        "colab": {
          "base_uri": "https://localhost:8080/",
          "height": 323
        }
      },
      "source": [
        "!nvidia-smi"
      ],
      "execution_count": 0,
      "outputs": [
        {
          "output_type": "stream",
          "text": [
            "Mon Aug 26 00:47:39 2019       \n",
            "+-----------------------------------------------------------------------------+\n",
            "| NVIDIA-SMI 430.40       Driver Version: 418.67       CUDA Version: 10.1     |\n",
            "|-------------------------------+----------------------+----------------------+\n",
            "| GPU  Name        Persistence-M| Bus-Id        Disp.A | Volatile Uncorr. ECC |\n",
            "| Fan  Temp  Perf  Pwr:Usage/Cap|         Memory-Usage | GPU-Util  Compute M. |\n",
            "|===============================+======================+======================|\n",
            "|   0  Tesla T4            Off  | 00000000:00:04.0 Off |                    0 |\n",
            "| N/A   34C    P8    11W /  70W |      0MiB / 15079MiB |      0%      Default |\n",
            "+-------------------------------+----------------------+----------------------+\n",
            "                                                                               \n",
            "+-----------------------------------------------------------------------------+\n",
            "| Processes:                                                       GPU Memory |\n",
            "|  GPU       PID   Type   Process name                             Usage      |\n",
            "|=============================================================================|\n",
            "|  No running processes found                                                 |\n",
            "+-----------------------------------------------------------------------------+\n"
          ],
          "name": "stdout"
        }
      ]
    },
    {
      "cell_type": "code",
      "metadata": {
        "id": "_zfmYzjXZYOH",
        "colab_type": "code",
        "outputId": "ea8b88ec-ada7-4eb1-998f-532bcc152076",
        "colab": {
          "base_uri": "https://localhost:8080/",
          "height": 35
        }
      },
      "source": [
        "%%writefile test.py\n",
        "import tensorflow as tf\n",
        "\n",
        "hello = tf.constant('Hello, Tensorflow using GPU in Colab')\n",
        "sess = tf.Session()\n",
        "\n",
        "print(sess.run(hello))"
      ],
      "execution_count": 0,
      "outputs": [
        {
          "output_type": "stream",
          "text": [
            "Overwriting test.py\n"
          ],
          "name": "stdout"
        }
      ]
    },
    {
      "cell_type": "code",
      "metadata": {
        "id": "2iBH9SrdZnrL",
        "colab_type": "code",
        "outputId": "efa8f4e9-3eb7-4e98-ca56-34d5b42a3ac3",
        "colab": {
          "base_uri": "https://localhost:8080/",
          "height": 883
        }
      },
      "source": [
        "!python test.py"
      ],
      "execution_count": 0,
      "outputs": [
        {
          "output_type": "stream",
          "text": [
            "WARNING: Logging before flag parsing goes to stderr.\n",
            "W0826 00:53:29.924143 140121273796480 deprecation_wrapper.py:119] From test.py:4: The name tf.Session is deprecated. Please use tf.compat.v1.Session instead.\n",
            "\n",
            "2019-08-26 00:53:29.925747: I tensorflow/stream_executor/platform/default/dso_loader.cc:42] Successfully opened dynamic library libcuda.so.1\n",
            "2019-08-26 00:53:29.930759: I tensorflow/stream_executor/cuda/cuda_gpu_executor.cc:1005] successful NUMA node read from SysFS had negative value (-1), but there must be at least one NUMA node, so returning NUMA node zero\n",
            "2019-08-26 00:53:29.931323: I tensorflow/core/common_runtime/gpu/gpu_device.cc:1640] Found device 0 with properties: \n",
            "name: Tesla T4 major: 7 minor: 5 memoryClockRate(GHz): 1.59\n",
            "pciBusID: 0000:00:04.0\n",
            "2019-08-26 00:53:29.931579: I tensorflow/stream_executor/platform/default/dso_loader.cc:42] Successfully opened dynamic library libcudart.so.10.0\n",
            "2019-08-26 00:53:29.932878: I tensorflow/stream_executor/platform/default/dso_loader.cc:42] Successfully opened dynamic library libcublas.so.10.0\n",
            "2019-08-26 00:53:29.934277: I tensorflow/stream_executor/platform/default/dso_loader.cc:42] Successfully opened dynamic library libcufft.so.10.0\n",
            "2019-08-26 00:53:29.938376: I tensorflow/stream_executor/platform/default/dso_loader.cc:42] Successfully opened dynamic library libcurand.so.10.0\n",
            "2019-08-26 00:53:29.940273: I tensorflow/stream_executor/platform/default/dso_loader.cc:42] Successfully opened dynamic library libcusolver.so.10.0\n",
            "2019-08-26 00:53:29.941700: I tensorflow/stream_executor/platform/default/dso_loader.cc:42] Successfully opened dynamic library libcusparse.so.10.0\n",
            "2019-08-26 00:53:29.945928: I tensorflow/stream_executor/platform/default/dso_loader.cc:42] Successfully opened dynamic library libcudnn.so.7\n",
            "2019-08-26 00:53:29.946059: I tensorflow/stream_executor/cuda/cuda_gpu_executor.cc:1005] successful NUMA node read from SysFS had negative value (-1), but there must be at least one NUMA node, so returning NUMA node zero\n",
            "2019-08-26 00:53:29.946617: I tensorflow/stream_executor/cuda/cuda_gpu_executor.cc:1005] successful NUMA node read from SysFS had negative value (-1), but there must be at least one NUMA node, so returning NUMA node zero\n",
            "2019-08-26 00:53:29.947147: I tensorflow/core/common_runtime/gpu/gpu_device.cc:1763] Adding visible gpu devices: 0\n",
            "2019-08-26 00:53:29.952539: I tensorflow/core/platform/profile_utils/cpu_utils.cc:94] CPU Frequency: 2300000000 Hz\n",
            "2019-08-26 00:53:29.952811: I tensorflow/compiler/xla/service/service.cc:168] XLA service 0x2ffb480 executing computations on platform Host. Devices:\n",
            "2019-08-26 00:53:29.952836: I tensorflow/compiler/xla/service/service.cc:175]   StreamExecutor device (0): <undefined>, <undefined>\n",
            "2019-08-26 00:53:30.065986: I tensorflow/stream_executor/cuda/cuda_gpu_executor.cc:1005] successful NUMA node read from SysFS had negative value (-1), but there must be at least one NUMA node, so returning NUMA node zero\n",
            "2019-08-26 00:53:30.066652: I tensorflow/compiler/xla/service/service.cc:168] XLA service 0x2ffbb80 executing computations on platform CUDA. Devices:\n",
            "2019-08-26 00:53:30.066680: I tensorflow/compiler/xla/service/service.cc:175]   StreamExecutor device (0): Tesla T4, Compute Capability 7.5\n",
            "2019-08-26 00:53:30.066876: I tensorflow/stream_executor/cuda/cuda_gpu_executor.cc:1005] successful NUMA node read from SysFS had negative value (-1), but there must be at least one NUMA node, so returning NUMA node zero\n",
            "2019-08-26 00:53:30.067390: I tensorflow/core/common_runtime/gpu/gpu_device.cc:1640] Found device 0 with properties: \n",
            "name: Tesla T4 major: 7 minor: 5 memoryClockRate(GHz): 1.59\n",
            "pciBusID: 0000:00:04.0\n",
            "2019-08-26 00:53:30.067440: I tensorflow/stream_executor/platform/default/dso_loader.cc:42] Successfully opened dynamic library libcudart.so.10.0\n",
            "2019-08-26 00:53:30.067455: I tensorflow/stream_executor/platform/default/dso_loader.cc:42] Successfully opened dynamic library libcublas.so.10.0\n",
            "2019-08-26 00:53:30.067467: I tensorflow/stream_executor/platform/default/dso_loader.cc:42] Successfully opened dynamic library libcufft.so.10.0\n",
            "2019-08-26 00:53:30.067479: I tensorflow/stream_executor/platform/default/dso_loader.cc:42] Successfully opened dynamic library libcurand.so.10.0\n",
            "2019-08-26 00:53:30.067490: I tensorflow/stream_executor/platform/default/dso_loader.cc:42] Successfully opened dynamic library libcusolver.so.10.0\n",
            "2019-08-26 00:53:30.067502: I tensorflow/stream_executor/platform/default/dso_loader.cc:42] Successfully opened dynamic library libcusparse.so.10.0\n",
            "2019-08-26 00:53:30.067516: I tensorflow/stream_executor/platform/default/dso_loader.cc:42] Successfully opened dynamic library libcudnn.so.7\n",
            "2019-08-26 00:53:30.067570: I tensorflow/stream_executor/cuda/cuda_gpu_executor.cc:1005] successful NUMA node read from SysFS had negative value (-1), but there must be at least one NUMA node, so returning NUMA node zero\n",
            "2019-08-26 00:53:30.068122: I tensorflow/stream_executor/cuda/cuda_gpu_executor.cc:1005] successful NUMA node read from SysFS had negative value (-1), but there must be at least one NUMA node, so returning NUMA node zero\n",
            "2019-08-26 00:53:30.068586: I tensorflow/core/common_runtime/gpu/gpu_device.cc:1763] Adding visible gpu devices: 0\n",
            "2019-08-26 00:53:30.068637: I tensorflow/stream_executor/platform/default/dso_loader.cc:42] Successfully opened dynamic library libcudart.so.10.0\n",
            "2019-08-26 00:53:30.069553: I tensorflow/core/common_runtime/gpu/gpu_device.cc:1181] Device interconnect StreamExecutor with strength 1 edge matrix:\n",
            "2019-08-26 00:53:30.069575: I tensorflow/core/common_runtime/gpu/gpu_device.cc:1187]      0 \n",
            "2019-08-26 00:53:30.069584: I tensorflow/core/common_runtime/gpu/gpu_device.cc:1200] 0:   N \n",
            "2019-08-26 00:53:30.069682: I tensorflow/stream_executor/cuda/cuda_gpu_executor.cc:1005] successful NUMA node read from SysFS had negative value (-1), but there must be at least one NUMA node, so returning NUMA node zero\n",
            "2019-08-26 00:53:30.070205: I tensorflow/stream_executor/cuda/cuda_gpu_executor.cc:1005] successful NUMA node read from SysFS had negative value (-1), but there must be at least one NUMA node, so returning NUMA node zero\n",
            "2019-08-26 00:53:30.070760: W tensorflow/core/common_runtime/gpu/gpu_bfc_allocator.cc:40] Overriding allow_growth setting because the TF_FORCE_GPU_ALLOW_GROWTH environment variable is set. Original config value was 0.\n",
            "2019-08-26 00:53:30.070828: I tensorflow/core/common_runtime/gpu/gpu_device.cc:1326] Created TensorFlow device (/job:localhost/replica:0/task:0/device:GPU:0 with 14125 MB memory) -> physical GPU (device: 0, name: Tesla T4, pci bus id: 0000:00:04.0, compute capability: 7.5)\n",
            "b'Hello, Tensorflow using GPU in Colab'\n"
          ],
          "name": "stdout"
        }
      ]
    },
    {
      "cell_type": "code",
      "metadata": {
        "id": "BMM8ODvyanKE",
        "colab_type": "code",
        "outputId": "8d2f01e1-a1e1-4a83-e651-29730a898206",
        "colab": {
          "base_uri": "https://localhost:8080/",
          "height": 35
        }
      },
      "source": [
        "import tensorflow as tf\n",
        "tf.__version__"
      ],
      "execution_count": 0,
      "outputs": [
        {
          "output_type": "execute_result",
          "data": {
            "text/plain": [
              "'1.14.0'"
            ]
          },
          "metadata": {
            "tags": []
          },
          "execution_count": 38
        }
      ]
    },
    {
      "cell_type": "code",
      "metadata": {
        "id": "NdLpObv-VRUX",
        "colab_type": "code",
        "outputId": "3a67aaec-cffa-4e2e-99c5-8c85be25a936",
        "colab": {
          "base_uri": "https://localhost:8080/",
          "height": 35
        }
      },
      "source": [
        "%%writefile openmp1.c\n",
        "\n",
        "#include<stdio.h>\n",
        "\n",
        "int main(void)\n",
        "{\n",
        "    #pragma omp parallel\n",
        "    {\n",
        "        printf(\"Hello, world.\\n\");\n",
        "    }\n",
        "\n",
        "    return 0;\n",
        "}"
      ],
      "execution_count": 0,
      "outputs": [
        {
          "output_type": "stream",
          "text": [
            "Writing openmp1.c\n"
          ],
          "name": "stdout"
        }
      ]
    },
    {
      "cell_type": "code",
      "metadata": {
        "id": "8rowCrWCVvZV",
        "colab_type": "code",
        "colab": {}
      },
      "source": [
        "!gcc -fopenmp openmp1.c -o openmp1"
      ],
      "execution_count": 0,
      "outputs": []
    },
    {
      "cell_type": "code",
      "metadata": {
        "id": "UDYalQuJVw5f",
        "colab_type": "code",
        "outputId": "3f8c1bcf-37dc-4050-87bd-bf1178674ed5",
        "colab": {
          "base_uri": "https://localhost:8080/",
          "height": 53
        }
      },
      "source": [
        "!./openmp1"
      ],
      "execution_count": 0,
      "outputs": [
        {
          "output_type": "stream",
          "text": [
            "Hello, world.\n",
            "Hello, world.\n"
          ],
          "name": "stdout"
        }
      ]
    },
    {
      "cell_type": "code",
      "metadata": {
        "id": "mVXhC_NdV0IU",
        "colab_type": "code",
        "outputId": "daa7e820-bc90-4a2b-a910-918e3b295984",
        "colab": {
          "base_uri": "https://localhost:8080/",
          "height": 35
        }
      },
      "source": [
        "%%writefile mmul.c\n",
        "\n",
        "#include <stdio.h>\n",
        "#include <stdlib.h>\n",
        "#include <omp.h>\n",
        "\n",
        "void transpose(double *A, double *B, int n) { // Matrix 곱 연산을 위한 transpose 함수\n",
        "    int i,j;\n",
        "    for(i=0; i<n; i++) {\n",
        "        for(j=0; j<n; j++) {\n",
        "            B[j*n+i] = A[i*n+j];\n",
        "        }\n",
        "    }\n",
        "}\n",
        "\n",
        "void gemm(double *A, double *B, double *C, int n) \n",
        "{    // transpose안한 경우 \n",
        "    int i, j, k;\n",
        "    for (i = 0; i < n; i++) { \n",
        "        for (j = 0; j < n; j++) {\n",
        "            double dot  = 0;\n",
        "            for (k = 0; k < n; k++) {\n",
        "                dot += A[i*n+k]*B[k*n+j];\n",
        "            } \n",
        "            C[i*n+j ] = dot;\n",
        "        }\n",
        "    }\n",
        "}\n",
        "\n",
        "void gemm_omp(double *A, double *B, double *C, int n) \n",
        "{   \n",
        "    #pragma omp parallel\n",
        "    {\n",
        "        int i, j, k;\n",
        "        #pragma omp for\n",
        "        for (i = 0; i < n; i++) { \n",
        "            for (j = 0; j < n; j++) {\n",
        "                double dot  = 0;\n",
        "                for (k = 0; k < n; k++) {\n",
        "                    dot += A[i*n+k]*B[k*n+j];\n",
        "                } \n",
        "                C[i*n+j ] = dot;\n",
        "            }\n",
        "        }\n",
        "\n",
        "    }\n",
        "}\n",
        "\n",
        "void gemmT(double *A, double *B, double *C, int n) \n",
        "{   // transpose를 한 경우 \n",
        "    int i, j, k;\n",
        "    double *B2;\n",
        "    B2 = (double*)malloc(sizeof(double)*n*n);\n",
        "    transpose(B,B2, n);\n",
        "    for (i = 0; i < n; i++) { \n",
        "        for (j = 0; j < n; j++) {\n",
        "            double dot  = 0;\n",
        "            for (k = 0; k < n; k++) {\n",
        "                dot += A[i*n+k]*B2[j*n+k];\n",
        "            } \n",
        "            C[i*n+j ] = dot;\n",
        "        }\n",
        "    }\n",
        "    free(B2);\n",
        "}\n",
        "\n",
        "void gemmT_omp(double *A, double *B, double *C, int n) \n",
        "{   \n",
        "    double *B2;\n",
        "    B2 = (double*)malloc(sizeof(double)*n*n);\n",
        "    transpose(B,B2, n);\n",
        "    #pragma omp parallel\n",
        "    {\n",
        "        int i, j, k;\n",
        "        //병렬화를 하게 되면 가장 밖의 for문이 병렬화가 진행\n",
        "        //아래 반복문의 경우에는 i for문이 병렬화 진행 \n",
        "        #pragma omp for\n",
        "        for (i = 0; i < n; i++) { \n",
        "            for (j = 0; j < n; j++) {\n",
        "                double dot  = 0;\n",
        "                for (k = 0; k < n; k++) {\n",
        "                    dot += A[i*n+k]*B2[j*n+k];\n",
        "                } \n",
        "                C[i*n+j ] = dot;\n",
        "            }\n",
        "        }\n",
        "\n",
        "    }\n",
        "    free(B2);\n",
        "}\n",
        "\n",
        "int main() {\n",
        "    int i, n;\n",
        "    double *A, *B, *C, dtime;\n",
        "\n",
        "    n=512; // matrix size \n",
        "    A = (double*)malloc(sizeof(double)*n*n);\n",
        "    B = (double*)malloc(sizeof(double)*n*n);\n",
        "    C = (double*)malloc(sizeof(double)*n*n);\n",
        "    for(i=0; i<n*n; i++) { A[i] = rand()/RAND_MAX; B[i] = rand()/RAND_MAX;}\n",
        "\n",
        "    dtime = omp_get_wtime();\n",
        "    gemm(A,B,C, n);\n",
        "    dtime = omp_get_wtime() - dtime;\n",
        "    printf(\"Not use transpose() Not use omp : %f\\n\", dtime);\n",
        "\n",
        "    dtime = omp_get_wtime();\n",
        "    gemm_omp(A,B,C, n);\n",
        "    dtime = omp_get_wtime() - dtime;\n",
        "    printf(\"Not use transpose() Use omp     : %f\\n\", dtime);\n",
        "\n",
        "    dtime = omp_get_wtime();\n",
        "    gemmT(A,B,C, n);\n",
        "    dtime = omp_get_wtime() - dtime;\n",
        "    printf(\"use transpose() Not use omp     : %f\\n\", dtime);\n",
        "\n",
        "    dtime = omp_get_wtime();\n",
        "    gemmT_omp(A,B,C, n);\n",
        "    dtime = omp_get_wtime() - dtime;\n",
        "    printf(\"use transpose() Use omp         : %f\\n\", dtime);\n",
        "\n",
        "    return 0;\n",
        "\n",
        "}"
      ],
      "execution_count": 0,
      "outputs": [
        {
          "output_type": "stream",
          "text": [
            "Overwriting mmul.c\n"
          ],
          "name": "stdout"
        }
      ]
    },
    {
      "cell_type": "code",
      "metadata": {
        "id": "bcQ7INTMY0A_",
        "colab_type": "code",
        "colab": {}
      },
      "source": [
        "!gcc -fopenmp mmul.c -o mmul"
      ],
      "execution_count": 0,
      "outputs": []
    },
    {
      "cell_type": "code",
      "metadata": {
        "id": "ipfbZf3kY17k",
        "colab_type": "code",
        "cellView": "both",
        "outputId": "49cdf026-5628-4c3c-b2e8-9106aac867f2",
        "colab": {
          "base_uri": "https://localhost:8080/",
          "height": 89
        }
      },
      "source": [
        "#@title Matrix size = 512\n",
        "!./mmul"
      ],
      "execution_count": 0,
      "outputs": [
        {
          "output_type": "stream",
          "text": [
            "Not use transpose() Not use omp : 0.912708\n",
            "Not use transpose() Use omp     : 0.857808\n",
            "use transpose() Not use omp     : 0.478360\n",
            "use transpose() Use omp         : 0.483152\n"
          ],
          "name": "stdout"
        }
      ]
    },
    {
      "cell_type": "code",
      "metadata": {
        "id": "tSyj9j6yWznV",
        "colab_type": "code",
        "colab": {}
      },
      "source": [
        "!gcc -fopenmp mmul.c -o mmul"
      ],
      "execution_count": 0,
      "outputs": []
    },
    {
      "cell_type": "code",
      "metadata": {
        "id": "gBhdkbcDW1nw",
        "colab_type": "code",
        "outputId": "5b6f0c99-8b6a-41f3-b4a9-68194cd64638",
        "colab": {
          "base_uri": "https://localhost:8080/",
          "height": 89
        }
      },
      "source": [
        "#@title Matrix size = 1024\n",
        "!./mmul"
      ],
      "execution_count": 0,
      "outputs": [
        {
          "output_type": "stream",
          "text": [
            "Not use transpose() Not use omp : 19.480856\n",
            "Not use transpose() Use omp     : 14.891069\n",
            "use transpose() Not use omp     : 3.548960\n",
            "use transpose() Use omp         : 3.463459\n"
          ],
          "name": "stdout"
        }
      ]
    },
    {
      "cell_type": "code",
      "metadata": {
        "id": "KxH9jqJ3k4A6",
        "colab_type": "code",
        "outputId": "0c971a46-6b9e-4efc-fe0d-eb3aab52f84b",
        "colab": {
          "base_uri": "https://localhost:8080/",
          "height": 35
        }
      },
      "source": [
        "%%writefile avx.cpp\n",
        "\n",
        "#include <iostream>\n",
        "\n",
        "#ifdef __AVX__\n",
        "  #include <immintrin.h>\n",
        "#else\n",
        "  #warning No AVX support - will not compile\n",
        "#endif\n",
        "\n",
        "int main(int argc, char **argv)\n",
        "{\n",
        "    __m256 a = _mm256_set_ps(8.0, 7.0, 6.0, 5.0, \n",
        "                             4.0, 3.0, 2.0, 1.0);\n",
        "    __m256 b = _mm256_set_ps(18.0, 17.0, 16.0, 15.0, \n",
        "                             14.0, 13.0, 12.0, 11.0);\n",
        "\n",
        "    __m256 c = _mm256_add_ps(a, b);\n",
        "\n",
        "    float d[8];\n",
        "    _mm256_storeu_ps(d, c);\n",
        "\n",
        "    std::cout << \"result equals \" << d[0] << \",\" << d[1]\n",
        "              << \",\" << d[2] << \",\" << d[3] << \",\"\n",
        "              << d[4] << \",\" << d[5] << \",\" << d[6] << \",\"\n",
        "              << d[7] << std::endl;\n",
        "\n",
        "    return 0;\n",
        "}"
      ],
      "execution_count": 0,
      "outputs": [
        {
          "output_type": "stream",
          "text": [
            "Writing avx.cpp\n"
          ],
          "name": "stdout"
        }
      ]
    },
    {
      "cell_type": "code",
      "metadata": {
        "id": "6mo_xcKilL6U",
        "colab_type": "code",
        "outputId": "02e4658a-7cf6-4faf-a362-22685c72397b",
        "colab": {
          "base_uri": "https://localhost:8080/",
          "height": 35
        }
      },
      "source": [
        "!g++ --std=c++14 -O2 -mavx avx.cpp -o avx\n",
        "!./avx"
      ],
      "execution_count": 0,
      "outputs": [
        {
          "output_type": "stream",
          "text": [
            "result equals 12,14,16,18,20,22,24,26\n"
          ],
          "name": "stdout"
        }
      ]
    },
    {
      "cell_type": "code",
      "metadata": {
        "id": "SFiA4GAClQkq",
        "colab_type": "code",
        "outputId": "e2b6013d-64b5-4abc-c59f-194351cf2bdb",
        "colab": {
          "base_uri": "https://localhost:8080/",
          "height": 1000
        }
      },
      "source": [
        "cat /proc/cpuinfo"
      ],
      "execution_count": 0,
      "outputs": [
        {
          "output_type": "stream",
          "text": [
            "processor\t: 0\n",
            "vendor_id\t: GenuineIntel\n",
            "cpu family\t: 6\n",
            "model\t\t: 63\n",
            "model name\t: Intel(R) Xeon(R) CPU @ 2.30GHz\n",
            "stepping\t: 0\n",
            "microcode\t: 0x1\n",
            "cpu MHz\t\t: 2300.000\n",
            "cache size\t: 46080 KB\n",
            "physical id\t: 0\n",
            "siblings\t: 2\n",
            "core id\t\t: 0\n",
            "cpu cores\t: 1\n",
            "apicid\t\t: 0\n",
            "initial apicid\t: 0\n",
            "fpu\t\t: yes\n",
            "fpu_exception\t: yes\n",
            "cpuid level\t: 13\n",
            "wp\t\t: yes\n",
            "flags\t\t: fpu vme de pse tsc msr pae mce cx8 apic sep mtrr pge mca cmov pat pse36 clflush mmx fxsr sse sse2 ss ht syscall nx pdpe1gb rdtscp lm constant_tsc rep_good nopl xtopology nonstop_tsc cpuid tsc_known_freq pni pclmulqdq ssse3 fma cx16 pcid sse4_1 sse4_2 x2apic movbe popcnt aes xsave avx f16c rdrand hypervisor lahf_lm abm invpcid_single ssbd ibrs ibpb stibp fsgsbase tsc_adjust bmi1 avx2 smep bmi2 erms invpcid xsaveopt arat md_clear arch_capabilities\n",
            "bugs\t\t: cpu_meltdown spectre_v1 spectre_v2 spec_store_bypass l1tf mds swapgs\n",
            "bogomips\t: 4600.00\n",
            "clflush size\t: 64\n",
            "cache_alignment\t: 64\n",
            "address sizes\t: 46 bits physical, 48 bits virtual\n",
            "power management:\n",
            "\n",
            "processor\t: 1\n",
            "vendor_id\t: GenuineIntel\n",
            "cpu family\t: 6\n",
            "model\t\t: 63\n",
            "model name\t: Intel(R) Xeon(R) CPU @ 2.30GHz\n",
            "stepping\t: 0\n",
            "microcode\t: 0x1\n",
            "cpu MHz\t\t: 2300.000\n",
            "cache size\t: 46080 KB\n",
            "physical id\t: 0\n",
            "siblings\t: 2\n",
            "core id\t\t: 0\n",
            "cpu cores\t: 1\n",
            "apicid\t\t: 1\n",
            "initial apicid\t: 1\n",
            "fpu\t\t: yes\n",
            "fpu_exception\t: yes\n",
            "cpuid level\t: 13\n",
            "wp\t\t: yes\n",
            "flags\t\t: fpu vme de pse tsc msr pae mce cx8 apic sep mtrr pge mca cmov pat pse36 clflush mmx fxsr sse sse2 ss ht syscall nx pdpe1gb rdtscp lm constant_tsc rep_good nopl xtopology nonstop_tsc cpuid tsc_known_freq pni pclmulqdq ssse3 fma cx16 pcid sse4_1 sse4_2 x2apic movbe popcnt aes xsave avx f16c rdrand hypervisor lahf_lm abm invpcid_single ssbd ibrs ibpb stibp fsgsbase tsc_adjust bmi1 avx2 smep bmi2 erms invpcid xsaveopt arat md_clear arch_capabilities\n",
            "bugs\t\t: cpu_meltdown spectre_v1 spectre_v2 spec_store_bypass l1tf mds swapgs\n",
            "bogomips\t: 4600.00\n",
            "clflush size\t: 64\n",
            "cache_alignment\t: 64\n",
            "address sizes\t: 46 bits physical, 48 bits virtual\n",
            "power management:\n",
            "\n"
          ],
          "name": "stdout"
        }
      ]
    }
  ]
}