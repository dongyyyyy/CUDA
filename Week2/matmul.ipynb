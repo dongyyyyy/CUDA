{
  "nbformat": 4,
  "nbformat_minor": 0,
  "metadata": {
    "colab": {
      "name": "matmul.ipynb",
      "provenance": [],
      "collapsed_sections": [],
      "include_colab_link": true
    },
    "kernelspec": {
      "name": "python3",
      "display_name": "Python 3"
    },
    "accelerator": "GPU"
  },
  "cells": [
    {
      "cell_type": "markdown",
      "metadata": {
        "id": "view-in-github",
        "colab_type": "text"
      },
      "source": [
        "<a href=\"https://colab.research.google.com/github/dongyyyyy/CUDA/blob/master/Week2/matmul.ipynb\" target=\"_parent\"><img src=\"https://colab.research.google.com/assets/colab-badge.svg\" alt=\"Open In Colab\"/></a>"
      ]
    },
    {
      "cell_type": "code",
      "metadata": {
        "id": "ilTk4nVMdkmT",
        "colab_type": "code",
        "outputId": "3ca43f0b-917a-414a-b0e4-ae97a097f9c5",
        "colab": {
          "base_uri": "https://localhost:8080/",
          "height": 35
        }
      },
      "source": [
        "%%writefile cudabasic.cu\n",
        "#include <stdio.h>\n",
        "#include <time.h>\n",
        "\n",
        "__global__ void MatrixMul(int *M, int *N, int *P, int width)\n",
        "{\n",
        "    int accu = 0;\n",
        "\n",
        "    // Block index\n",
        "    int bx = blockIdx.x;\n",
        "    int by = blockIdx.y;\n",
        "\n",
        "    // Thread index\n",
        "    int tx = threadIdx.x;\n",
        "    int ty = threadIdx.y;\n",
        "\n",
        "    int i = by * blockDim.y + ty;\n",
        "    int j = bx * blockDim.x + tx;\n",
        "\n",
        "    for(int k=0; k<width; k++)\n",
        "    {\n",
        "        accu = accu + M[i*width+k]*N[k*width+j];\n",
        "    }\n",
        "\n",
        "    P[i*width+j] = accu;\n",
        "}\n",
        "\n",
        "void timeCheck(int size)\n",
        "{\n",
        "    clock_t start, end;\n",
        "    double result;\n",
        "    int i, j, k;\n",
        "    int *h_A, *h_B, *h_C, *h_gC;\n",
        "    int *d_A, *d_B, *d_C;\n",
        "\n",
        "    int sizeByte = sizeof(int)*size*size;\n",
        "    h_A = (int *) malloc(sizeByte);\n",
        "    h_B = (int *) malloc(sizeByte);\n",
        "    h_C = (int *) malloc(sizeByte);\n",
        "    h_gC = (int *) malloc(sizeByte);\n",
        "\n",
        "    for(i = 0; i < size*size; i++) h_A[i] = 1;\n",
        "    for(i = 0; i < size*size; i++) h_B[i] = 2;\n",
        "\n",
        "    printf(\"Host Computing Statrs !\\n\");\n",
        "    start = clock();\n",
        "    for(i = 0; i < size; i++)\n",
        "        for(j = 0; j < size; j++) {\n",
        "            h_C[i*size+j] = 0;\n",
        "            for(k = 0; k < size; k++)\n",
        "                h_C[i*size+j] += h_A[i*size+k]*h_B[k*size+j];\n",
        "        }\n",
        "    end = clock();\n",
        "    result = (double)(end - start)/CLOCKS_PER_SEC;\n",
        "    printf(\"CPU Time : %lf\\n\",result);\n",
        "    printf(\"Host Computing Finished !\\n\");\n",
        "    /*\n",
        "    for(i = 0; i < size; i++) {\n",
        "        for(j = 0; j < size; j++)\n",
        "          printf(\"%d \", h_C[i*size+j]);\n",
        "        printf(\"\\n\");\n",
        "    }\n",
        "    */\n",
        "    cudaMalloc(&d_A, sizeByte);\n",
        "    cudaMalloc(&d_B, sizeByte);\n",
        "    cudaMalloc(&d_C, sizeByte);\n",
        "\n",
        "    cudaMemcpy(d_A, h_A, sizeByte, cudaMemcpyHostToDevice);\n",
        "    cudaMemcpy(d_B, h_B, sizeByte, cudaMemcpyHostToDevice);\n",
        "\n",
        "\n",
        "    printf(\"GPU Computing Statrs !\\n\");\n",
        "    start = clock();\n",
        "    dim3 blocks(size/16, size/16);// size = matrix size ( 1024 / 2048 )\n",
        "    dim3 threads(16, 16);\n",
        "    MatrixMul<<<blocks, threads >>>(d_A, d_B, d_C, size);\n",
        "    cudaDeviceSynchronize();\n",
        "    end = clock();\n",
        "    result = (double)(end - start)/CLOCKS_PER_SEC;\n",
        "    printf(\"GPU Computing Finished !\\n\");\n",
        "    printf(\"GPU Time : %lf\\n\",result);\n",
        "    cudaMemcpy(h_gC, d_C, sizeByte, cudaMemcpyDeviceToHost);\n",
        "    /*\n",
        "    for(i = 0; i < size; i++) {\n",
        "        for(j = 0; j < size; j++)\n",
        "          printf(\"%d \", h_gC[i*size+j]);\n",
        "        printf(\"\\n\");\n",
        "    }\n",
        "    */\n",
        "\n",
        "    for(i = 0; i < size; i++)\n",
        "        for(j = 0; j < size; j++)\n",
        "            if( h_C[i*size+j] != h_gC[i*size+j] ) {\n",
        "                printf(\"Error !\\n\");\n",
        "                cudaFree(d_A);\n",
        "                cudaFree(d_B);\n",
        "                cudaFree(d_C);\n",
        "                free(h_A);\n",
        "                free(h_B);\n",
        "                free(h_C);\n",
        "                free(h_gC);\n",
        "                exit(1);\n",
        "            }\n",
        "\n",
        "    printf(\"Success ! \\n\");\n",
        "    \n",
        "    cudaFree(d_A);\n",
        "    cudaFree(d_B);\n",
        "    cudaFree(d_C);\n",
        "    free(h_A);\n",
        "    free(h_B);\n",
        "    free(h_C);\n",
        "    free(h_gC);\n",
        "\n",
        "}\n",
        "\n",
        "int main()\n",
        "{\n",
        "    printf(\"1024X1024 matmul\\n\");\n",
        "    timeCheck(1024);\n",
        "    printf(\"\\n\\n\");\n",
        "    printf(\"2048X2048 matmul\\n\");\n",
        "    timeCheck(2048);\n",
        "    return 0;\n",
        "}\n"
      ],
      "execution_count": 0,
      "outputs": [
        {
          "output_type": "stream",
          "text": [
            "Overwriting cudabasic.cu\n"
          ],
          "name": "stdout"
        }
      ]
    },
    {
      "cell_type": "code",
      "metadata": {
        "id": "Zok1Kc3Te_Tq",
        "colab_type": "code",
        "outputId": "00fcfd67-e35e-4f85-91c6-361e7eecc174",
        "colab": {
          "base_uri": "https://localhost:8080/",
          "height": 35
        }
      },
      "source": [
        "!ls"
      ],
      "execution_count": 0,
      "outputs": [
        {
          "output_type": "stream",
          "text": [
            "cudabasic  cudabasic.cu  sample_data\n"
          ],
          "name": "stdout"
        }
      ]
    },
    {
      "cell_type": "code",
      "metadata": {
        "id": "iFgB8U2XfAg8",
        "colab_type": "code",
        "colab": {}
      },
      "source": [
        "!nvcc -o cudabasic cudabasic.cu"
      ],
      "execution_count": 0,
      "outputs": []
    },
    {
      "cell_type": "code",
      "metadata": {
        "id": "mfDIpCKbfFkI",
        "colab_type": "code",
        "outputId": "6fd02f58-9630-4dcd-b51c-ac45087e5066",
        "colab": {
          "base_uri": "https://localhost:8080/",
          "height": 35
        }
      },
      "source": [
        "!ls"
      ],
      "execution_count": 0,
      "outputs": [
        {
          "output_type": "stream",
          "text": [
            "cudabasic  cudabasic.cu  sample_data\n"
          ],
          "name": "stdout"
        }
      ]
    },
    {
      "cell_type": "code",
      "metadata": {
        "id": "egNNpH1zfGng",
        "colab_type": "code",
        "outputId": "35f352b3-1876-454a-de0c-571bc07fbac5",
        "colab": {
          "base_uri": "https://localhost:8080/",
          "height": 341
        }
      },
      "source": [
        "!./cudabasic"
      ],
      "execution_count": 0,
      "outputs": [
        {
          "output_type": "stream",
          "text": [
            "1024X1024 matmul\n",
            "Host Computing Statrs !\n",
            "CPU Time : 11.484223\n",
            "Host Computing Finished !\n",
            "GPU Computing Statrs !\n",
            "GPU Computing Finished !\n",
            "GPU Time : 0.031977\n",
            "Success ! \n",
            "\n",
            "\n",
            "2048X2048 matmul\n",
            "Host Computing Statrs !\n",
            "CPU Time : 106.888172\n",
            "Host Computing Finished !\n",
            "GPU Computing Statrs !\n",
            "GPU Computing Finished !\n",
            "GPU Time : 0.252153\n",
            "Success ! \n"
          ],
          "name": "stdout"
        }
      ]
    },
    {
      "cell_type": "code",
      "metadata": {
        "id": "-G5CgGoufH7X",
        "colab_type": "code",
        "colab": {
          "base_uri": "https://localhost:8080/",
          "height": 35
        },
        "outputId": "5cdbc8e1-a872-4cca-adf2-3f0204a99700"
      },
      "source": [
        "%%writefile gpuMatmul.cu\n",
        "#include <stdio.h>\n",
        "#include <time.h>\n",
        "\n",
        "int count = 0;\n",
        "int *h_C;\n",
        "\n",
        "__global__ void MatrixMul(int *M, int *N, int *P, int width)\n",
        "{\n",
        "    int accu = 0;\n",
        "\n",
        "    // Block index\n",
        "    int bx = blockIdx.x; // blockIdx = CUDA block의 인덱스 \n",
        "    int by = blockIdx.y;\n",
        "\n",
        "    // Thread index\n",
        "    int tx = threadIdx.x; // threadIdx = CUDA thread의 인덱스\n",
        "    int ty = threadIdx.y;\n",
        "\n",
        "    int i = by * blockDim.y + ty; // blockDime = CUDA block의 크기\n",
        "    int j = bx * blockDim.x + tx;\n",
        "\n",
        "    for(int k=0; k<width; k++)\n",
        "    {\n",
        "        accu = accu + M[i*width+k]*N[k*width+j]; // d_A * d_B\n",
        "    }\n",
        "\n",
        "    P[i*width+j] = accu; // D_c[index] = matmul(d_A,d_B)\n",
        "}\n",
        "\n",
        "\n",
        "\n",
        "void timeCheck(int size,int threadSize)\n",
        "{\n",
        "    clock_t start, end;\n",
        "    double result;\n",
        "    int i, j,k;\n",
        "    int *h_A, *h_B, *h_gC;\n",
        "    int *d_A, *d_B, *d_C;\n",
        "\n",
        "    int sizeByte = sizeof(int)*size*size;\n",
        "    h_A = (int *) malloc(sizeByte);\n",
        "    h_B = (int *) malloc(sizeByte);\n",
        "    h_C = (int *) malloc(sizeByte);\n",
        "    h_gC = (int *) malloc(sizeByte);\n",
        "\n",
        "    for(i = 0; i < size*size; i++) h_A[i] = 1;\n",
        "    for(i = 0; i < size*size; i++) h_B[i] = 2;\n",
        "\n",
        "    if(size == 1024 && count == 0){\n",
        "    printf(\"Host Computing Statrs !\\n\");\n",
        "    start = clock();\n",
        "    for(i = 0; i < size; i++)\n",
        "        for(j = 0; j < size; j++) {\n",
        "            h_C[i*size+j] = 0;\n",
        "            for(k = 0; k < size; k++)\n",
        "                h_C[i*size+j] += h_A[i*size+k]*h_B[k*size+j];\n",
        "        }\n",
        "    end = clock();\n",
        "    result = (double)(end - start)/CLOCKS_PER_SEC;\n",
        "    printf(\"CPU Time : %lf\\n\",result);\n",
        "    printf(\"Host Computing Finished !\\n\");\n",
        "    count++;\n",
        "    }\n",
        "    cudaMalloc(&d_A, sizeByte);\n",
        "    cudaMalloc(&d_B, sizeByte);\n",
        "    cudaMalloc(&d_C, sizeByte);\n",
        "\n",
        "    cudaMemcpy(d_A, h_A, sizeByte, cudaMemcpyHostToDevice);\n",
        "    cudaMemcpy(d_B, h_B, sizeByte, cudaMemcpyHostToDevice);\n",
        "\n",
        "\n",
        "    printf(\"GPU Computing Statrs !\\n\");\n",
        "    start = clock();\n",
        "    dim3 blocks(size/threadSize, size/threadSize); // size = matrix size ( 1024 / 2048 )\n",
        "    dim3 threads(threadSize, threadSize);\n",
        "    MatrixMul<<<blocks, threads >>>(d_A, d_B, d_C, size);\n",
        "    cudaDeviceSynchronize();\n",
        "    end = clock();\n",
        "    result = (double)(end - start)/CLOCKS_PER_SEC;\n",
        "    printf(\"GPU Computing Finished !\\n\");\n",
        "    printf(\"GPU Time : %lf\\n\",result);\n",
        "    cudaMemcpy(h_gC, d_C, sizeByte, cudaMemcpyDeviceToHost);\n",
        "    if(size == 1024)\n",
        "    {\n",
        "    for(i = 0; i < size; i++)\n",
        "        for(j = 0; j < size; j++)\n",
        "            if( h_C[i*size+j] != h_gC[i*size+j] ) {\n",
        "                printf(\"Error !\\n\");\n",
        "                cudaFree(d_A);\n",
        "                cudaFree(d_B);\n",
        "                cudaFree(d_C);\n",
        "                free(h_A);\n",
        "                free(h_B);\n",
        "                free(h_C);\n",
        "                free(h_gC);\n",
        "                exit(1);\n",
        "            }\n",
        "    }\n",
        "    printf(\"Success ! \\n\");\n",
        "    \n",
        "    cudaFree(d_A);\n",
        "    cudaFree(d_B);\n",
        "    cudaFree(d_C);\n",
        "    free(h_A);\n",
        "    free(h_B);\n",
        "    free(h_C);\n",
        "    free(h_gC);\n",
        "\n",
        "}\n",
        "\n",
        "int main()\n",
        "{\n",
        "    int i, j, size;\n",
        "    int sizeByte = sizeof(int)*1024*1024;\n",
        "    h_C = (int *) malloc(sizeByte);\n",
        "    for( i = 1 ; i <=3 ; i++)\n",
        "    {\n",
        "        if(i == 1)\n",
        "        {\n",
        "            size = 1024;\n",
        "        }\n",
        "        else if(i == 2)\n",
        "        {\n",
        "            size = 2048;\n",
        "        }\n",
        "        else\n",
        "        {\n",
        "            size = 4096;\n",
        "        }\n",
        "        int threads = 16;\n",
        "        for(j = 1 ; j <= 2 ; j++){\n",
        "          if(j > 1)\n",
        "          {\n",
        "            threads *= 2;      \n",
        "          }\n",
        "          printf(\"%dX%d matmul threads = %d\\n\",size,size,threads);\n",
        "          timeCheck(size,threads);\n",
        "        }\n",
        "        \n",
        "    }\n",
        "    return 0;\n",
        "}\n"
      ],
      "execution_count": 59,
      "outputs": [
        {
          "output_type": "stream",
          "text": [
            "Overwriting gpuMatmul.cu\n"
          ],
          "name": "stdout"
        }
      ]
    },
    {
      "cell_type": "code",
      "metadata": {
        "id": "kVNGR1Tn4OC7",
        "colab_type": "code",
        "colab": {}
      },
      "source": [
        "!nvcc -o gpuMatmul gpuMatmul.cu"
      ],
      "execution_count": 0,
      "outputs": []
    },
    {
      "cell_type": "code",
      "metadata": {
        "id": "osgGIACI4P49",
        "colab_type": "code",
        "colab": {
          "base_uri": "https://localhost:8080/",
          "height": 35
        },
        "outputId": "1084ebab-aa0a-4bd2-eb8f-ad2165ce69af"
      },
      "source": [
        "!ls"
      ],
      "execution_count": 61,
      "outputs": [
        {
          "output_type": "stream",
          "text": [
            "cudabasic  cudabasic.cu  gpuMatmul  gpuMatmul.cu  sample_data\n"
          ],
          "name": "stdout"
        }
      ]
    },
    {
      "cell_type": "code",
      "metadata": {
        "id": "eapGOQ2S4bvz",
        "colab_type": "code",
        "colab": {
          "base_uri": "https://localhost:8080/",
          "height": 611
        },
        "outputId": "e9a7a990-8132-4b1c-c09e-7d8de316dd54"
      },
      "source": [
        "!./gpuMatmul"
      ],
      "execution_count": 62,
      "outputs": [
        {
          "output_type": "stream",
          "text": [
            "1024X1024 matmul threads = 16\n",
            "Host Computing Statrs !\n",
            "CPU Time : 11.283803\n",
            "Host Computing Finished !\n",
            "GPU Computing Statrs !\n",
            "GPU Computing Finished !\n",
            "GPU Time : 0.032183\n",
            "Success ! \n",
            "1024X1024 matmul threads = 32\n",
            "GPU Computing Statrs !\n",
            "GPU Computing Finished !\n",
            "GPU Time : 0.023892\n",
            "Success ! \n",
            "2048X2048 matmul threads = 16\n",
            "GPU Computing Statrs !\n",
            "GPU Computing Finished !\n",
            "GPU Time : 0.239794\n",
            "Success ! \n",
            "2048X2048 matmul threads = 32\n",
            "GPU Computing Statrs !\n",
            "GPU Computing Finished !\n",
            "GPU Time : 0.154283\n",
            "Success ! \n",
            "4096X4096 matmul threads = 16\n",
            "GPU Computing Statrs !\n",
            "GPU Computing Finished !\n",
            "GPU Time : 1.385778\n",
            "Success ! \n",
            "4096X4096 matmul threads = 32\n",
            "GPU Computing Statrs !\n",
            "GPU Computing Finished !\n",
            "GPU Time : 0.990057\n",
            "Success ! \n"
          ],
          "name": "stdout"
        }
      ]
    },
    {
      "cell_type": "code",
      "metadata": {
        "id": "YM9f5Pnp4dz-",
        "colab_type": "code",
        "colab": {}
      },
      "source": [
        ""
      ],
      "execution_count": 0,
      "outputs": []
    }
  ]
}